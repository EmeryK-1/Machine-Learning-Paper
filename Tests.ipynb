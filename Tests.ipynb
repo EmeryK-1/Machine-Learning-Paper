{
 "cells": [
  {
   "cell_type": "code",
   "execution_count": 1,
   "metadata": {
    "collapsed": true,
    "ExecuteTime": {
     "end_time": "2023-06-18T23:18:26.878895600Z",
     "start_time": "2023-06-18T23:18:23.961636300Z"
    }
   },
   "outputs": [],
   "source": [
    "import DataGeneration\n",
    "from statsmodels.tsa.api import VAR\n",
    "from MultiBlock import MultiTrendBlock, MultiSeasonalityBlock\n",
    "from NBeats import Stack, N_BEATS\n",
    "from Dataset import DataSet\n",
    "from InterrelationBlocks import CompanionMatrixBlock\n",
    "import tensorflow as tf\n",
    "import pandas as pd\n",
    "import numpy as np\n",
    "# Set tensorflow and numpy seed\n",
    "tf.random.set_seed(42)\n",
    "np.random.seed(42)"
   ]
  },
  {
   "cell_type": "code",
   "execution_count": 2,
   "outputs": [],
   "source": [
    "num_variables = 3\n",
    "var_lag = 4\n",
    "data = DataGeneration.generate_simulations(20, num_variables, 1000, var_lag)"
   ],
   "metadata": {
    "collapsed": false,
    "ExecuteTime": {
     "end_time": "2023-06-18T23:18:27.084926100Z",
     "start_time": "2023-06-18T23:18:26.880892900Z"
    }
   }
  },
  {
   "cell_type": "markdown",
   "source": [
    "# Companion DGP Test\n",
    "\n",
    "- How does it react with different DGPs?\n",
    "- Does it recognize if there is no VAR component or what the VAR component is if there is one?\n",
    "=> Save the companion matrix of the training CompanionMatrixBlock to compare to actual VAR companion matrix  AND VAR\n",
    "=> Save the companion matrix of the basic VAR model to compare to actual VAR companion matrix AND CompanionMatrixBlock\n",
    "\n",
    "1. Test on all simulations\n",
    "2. Parameters will be the lag of the DGP\n",
    "3. Forecast 1 ahead"
   ],
   "metadata": {
    "collapsed": false
   }
  },
  {
   "cell_type": "code",
   "execution_count": 3,
   "outputs": [
    {
     "name": "stdout",
     "output_type": "stream",
     "text": [
      "simulation: 0 data composition: ir -> 265 epochs - simulation: 0 data composition: t_ir -> 408 epochs - simulation: 0 data composition: s_ir -> 93 epochs - simulation: 0 data composition: t_s_ir -> 399 epochs - simulation: 0 data composition: t_s -> 39 epochs - simulation: 0 data composition: rw_ir -> 162 epochs - simulation: 0 data composition: t_rw_ir -> 174 epochs - simulation: 0 data composition: s_rw_ir -> 214 epochs - simulation: 0 data composition: t_s_rw_ir -> 256 epochs - simulation: 0 data composition: rw -> 353 epochs - simulation: 1 data composition: ir -> 128 epochs - simulation: 1 data composition: t_ir -> 36 epochs - simulation: 1 data composition: s_ir -> 85 epochs - simulation: 1 data composition: t_s_ir -> 310 epochs - simulation: 1 data composition: t_s -> 37 epochs - simulation: 1 data composition: rw_ir -> 248 epochs - simulation: 1 data composition: t_rw_ir -> 300 epochs - simulation: 1 data composition: s_rw_ir -> 165 epochs - simulation: 1 data composition: t_s_rw_ir -> 30 epochs - simulation: 1 data composition: rw -> 455 epochs - simulation: 2 data composition: ir -> 173 epochs - simulation: 2 data composition: t_ir -> 60 epochs - simulation: 2 data composition: s_ir -> 217 epochs - simulation: 2 data composition: t_s_ir -> 156 epochs - simulation: 2 data composition: t_s -> 40 epochs - simulation: 2 data composition: rw_ir -> 209 epochs - simulation: 2 data composition: t_rw_ir -> 36 epochs - simulation: 2 data composition: s_rw_ir -> 143 epochs - simulation: 2 data composition: t_s_rw_ir -> 32 epochs - simulation: 2 data composition: rw -> 389 epochs - simulation: 3 data composition: ir -> 85 epochs - simulation: 3 data composition: t_ir -> 47 epochs - simulation: 3 data composition: s_ir -> 84 epochs - simulation: 3 data composition: t_s_ir -> 38 epochs - simulation: 3 data composition: t_s -> 42 epochs - simulation: 3 data composition: rw_ir -> 454 epochs - simulation: 3 data composition: t_rw_ir -> 30 epochs - simulation: 3 data composition: s_rw_ir -> 257 epochs - simulation: 3 data composition: t_s_rw_ir -> 30 epochs - simulation: 3 data composition: rw -> 404 epochs - simulation: 4 data composition: ir -> 92 epochs - simulation: 4 data composition: t_ir -> 35 epochs - simulation: 4 data composition: s_ir -> 116 epochs - simulation: 4 data composition: t_s_ir -> 60 epochs - simulation: 4 data composition: t_s -> 41 epochs - simulation: 4 data composition: rw_ir -> 349 epochs - simulation: 4 data composition: t_rw_ir -> 35 epochs - simulation: 4 data composition: s_rw_ir -> 237 epochs - simulation: 4 data composition: t_s_rw_ir -> 31 epochs - simulation: 4 data composition: rw -> 200 epochs - simulation: 5 data composition: ir -> 108 epochs - simulation: 5 data composition: t_ir -> 198 epochs - simulation: 5 data composition: s_ir -> 85 epochs - simulation: 5 data composition: t_s_ir -> 42 epochs - simulation: 5 data composition: t_s -> 35 epochs - simulation: 5 data composition: rw_ir -> 235 epochs - simulation: 5 data composition: t_rw_ir -> 36 epochs - simulation: 5 data composition: s_rw_ir -> 279 epochs - simulation: 5 data composition: t_s_rw_ir -> 25 epochs - simulation: 5 data composition: rw -> 243 epochs - simulation: 6 data composition: ir -> 80 epochs - simulation: 6 data composition: t_ir -> 35 epochs - simulation: 6 data composition: s_ir -> 128 epochs - simulation: 6 data composition: t_s_ir -> 38 epochs - simulation: 6 data composition: t_s -> 35 epochs - simulation: 6 data composition: rw_ir -> 241 epochs - simulation: 6 data composition: t_rw_ir -> 107 epochs - simulation: 6 data composition: s_rw_ir -> 301 epochs - simulation: 6 data composition: t_s_rw_ir -> 35 epochs - simulation: 6 data composition: rw -> 279 epochs - simulation: 7 data composition: ir -> 96 epochs - simulation: 7 data composition: t_ir -> 39 epochs - simulation: 7 data composition: s_ir -> 127 epochs - simulation: 7 data composition: t_s_ir -> 40 epochs - simulation: 7 data composition: t_s -> 41 epochs - simulation: 7 data composition: rw_ir -> 265 epochs - simulation: 7 data composition: t_rw_ir -> 35 epochs - simulation: 7 data composition: s_rw_ir -> 211 epochs - simulation: 7 data composition: t_s_rw_ir -> 162 epochs - simulation: 7 data composition: rw -> 256 epochs - simulation: 8 data composition: ir -> 108 epochs - simulation: 8 data composition: t_ir -> 38 epochs - simulation: 8 data composition: s_ir -> 169 epochs - simulation: 8 data composition: t_s_ir -> 40 epochs - simulation: 8 data composition: t_s -> 71 epochs - simulation: 8 data composition: rw_ir -> 232 epochs - simulation: 8 data composition: t_rw_ir -> 31 epochs - simulation: 8 data composition: s_rw_ir -> 303 epochs - simulation: 8 data composition: t_s_rw_ir -> 30 epochs - simulation: 8 data composition: rw -> 482 epochs - simulation: 9 data composition: ir -> 101 epochs - simulation: 9 data composition: t_ir -> 271 epochs - simulation: 9 data composition: s_ir -> 158 epochs - simulation: 9 data composition: t_s_ir -> 645 epochs - simulation: 9 data composition: t_s -> 54 epochs - simulation: 9 data composition: rw_ir -> 216 epochs - simulation: 9 data composition: t_rw_ir -> 79 epochs - simulation: 9 data composition: s_rw_ir -> 203 epochs - simulation: 9 data composition: t_s_rw_ir -> 30 epochs - simulation: 9 data composition: rw -> 287 epochs - simulation: 10 data composition: ir -> 84 epochs - simulation: 10 data composition: t_ir -> 520 epochs - simulation: 10 data composition: s_ir -> 152 epochs - simulation: 10 data composition: t_s_ir -> 575 epochs - simulation: 10 data composition: t_s -> 480 epochs - simulation: 10 data composition: rw_ir -> 373 epochs - simulation: 10 data composition: t_rw_ir -> 733 epochs - simulation: 10 data composition: s_rw_ir -> 456 epochs - simulation: 10 data composition: t_s_rw_ir -> 465 epochs - simulation: 10 data composition: rw -> 367 epochs - simulation: 11 data composition: ir -> 116 epochs - simulation: 11 data composition: t_ir -> 40 epochs - simulation: 11 data composition: s_ir -> 83 epochs - simulation: 11 data composition: t_s_ir -> 40 epochs - simulation: 11 data composition: t_s -> 34 epochs - simulation: 11 data composition: rw_ir -> 353 epochs - simulation: 11 data composition: t_rw_ir -> 73 epochs - simulation: 11 data composition: s_rw_ir -> 306 epochs - simulation: 11 data composition: t_s_rw_ir -> 89 epochs - simulation: 11 data composition: rw -> 348 epochs - simulation: 12 data composition: ir -> 89 epochs - simulation: 12 data composition: t_ir -> 39 epochs - simulation: 12 data composition: s_ir -> 234 epochs - simulation: 12 data composition: t_s_ir -> 43 epochs - simulation: 12 data composition: t_s -> 80 epochs - simulation: 12 data composition: rw_ir -> 145 epochs - simulation: 12 data composition: t_rw_ir -> 35 epochs - simulation: 12 data composition: s_rw_ir -> 198 epochs - simulation: 12 data composition: t_s_rw_ir -> 28 epochs - simulation: 12 data composition: rw -> 208 epochs - simulation: 13 data composition: ir -> 94 epochs - simulation: 13 data composition: t_ir -> 37 epochs - simulation: 13 data composition: s_ir -> 73 epochs - simulation: 13 data composition: t_s_ir -> 767 epochs - simulation: 13 data composition: t_s -> 112 epochs - simulation: 13 data composition: rw_ir -> 324 epochs - simulation: 13 data composition: t_rw_ir -> 34 epochs - simulation: 13 data composition: s_rw_ir -> 348 epochs - simulation: 13 data composition: t_s_rw_ir -> 357 epochs - simulation: 13 data composition: rw -> 371 epochs - simulation: 14 data composition: ir -> 56 epochs - simulation: 14 data composition: t_ir -> 92 epochs - simulation: 14 data composition: s_ir -> 76 epochs - simulation: 14 data composition: t_s_ir -> 56 epochs - simulation: 14 data composition: t_s -> 40 epochs - simulation: 14 data composition: rw_ir -> 205 epochs - simulation: 14 data composition: t_rw_ir -> 28 epochs - simulation: 14 data composition: s_rw_ir -> 286 epochs - simulation: 14 data composition: t_s_rw_ir -> 28 epochs - simulation: 14 data composition: rw -> 365 epochs - simulation: 15 data composition: ir -> 64 epochs - simulation: 15 data composition: t_ir -> 35 epochs - simulation: 15 data composition: s_ir -> 60 epochs - simulation: 15 data composition: t_s_ir -> 55 epochs - simulation: 15 data composition: t_s -> 37 epochs - simulation: 15 data composition: rw_ir -> 369 epochs - simulation: 15 data composition: t_rw_ir -> 166 epochs - simulation: 15 data composition: s_rw_ir -> 544 epochs - simulation: 15 data composition: t_s_rw_ir -> 35 epochs - simulation: 15 data composition: rw -> 409 epochs - simulation: 16 data composition: ir -> 105 epochs - simulation: 16 data composition: t_ir -> 35 epochs - simulation: 16 data composition: s_ir -> 176 epochs - simulation: 16 data composition: t_s_ir -> 38 epochs - simulation: 16 data composition: t_s -> 40 epochs - simulation: 16 data composition: rw_ir -> 301 epochs - simulation: 16 data composition: t_rw_ir -> 37 epochs - simulation: 16 data composition: s_rw_ir -> 312 epochs - simulation: 16 data composition: t_s_rw_ir -> 29 epochs - simulation: 16 data composition: rw -> 335 epochs - simulation: 17 data composition: ir -> 159 epochs - simulation: 17 data composition: t_ir -> 33 epochs - simulation: 17 data composition: s_ir -> 248 epochs - simulation: 17 data composition: t_s_ir -> 34 epochs - simulation: 17 data composition: t_s -> 40 epochs - simulation: 17 data composition: rw_ir -> 315 epochs - simulation: 17 data composition: t_rw_ir -> 54 epochs - simulation: 17 data composition: s_rw_ir -> 245 epochs - simulation: 17 data composition: t_s_rw_ir -> 45 epochs - simulation: 17 data composition: rw -> 349 epochs - simulation: 18 data composition: ir -> 156 epochs - simulation: 18 data composition: t_ir -> 36 epochs - simulation: 18 data composition: s_ir -> 101 epochs - simulation: 18 data composition: t_s_ir -> 41 epochs - simulation: 18 data composition: t_s -> 38 epochs - simulation: 18 data composition: rw_ir -> 353 epochs - simulation: 18 data composition: t_rw_ir -> 35 epochs - simulation: 18 data composition: s_rw_ir -> 231 epochs - simulation: 18 data composition: t_s_rw_ir -> 258 epochs - simulation: 18 data composition: rw -> 781 epochs - simulation: 19 data composition: ir -> 125 epochs - simulation: 19 data composition: t_ir -> 122 epochs - simulation: 19 data composition: s_ir -> 97 epochs - simulation: 19 data composition: t_s_ir -> 356 epochs - simulation: 19 data composition: t_s -> 38 epochs - simulation: 19 data composition: rw_ir -> 242 epochs - simulation: 19 data composition: t_rw_ir -> 156 epochs - simulation: 19 data composition: s_rw_ir -> 255 epochs - simulation: 19 data composition: t_s_rw_ir -> 32 epochs - simulation: 19 data composition: rw -> 459 epochs - "
     ]
    }
   ],
   "source": [
    "companion_all = []\n",
    "\n",
    "for sim in range(len(data)):\n",
    "    for composition in data[sim]['data'].keys():\n",
    "        print('simulation:', sim, 'data composition:', composition, end=' -> ')\n",
    "        # Prepare data\n",
    "        dataset = DataSet(data[sim]['data'][composition].values)\n",
    "        horizon = 1\n",
    "        back_horizon = var_lag\n",
    "        dataset.preprocessing(horizon, back_horizon, 0.8, 0.1)\n",
    "        # Create model\n",
    "        comp = CompanionMatrixBlock(num_variables, horizon, back_horizon, var_lag, regularizer=None, trainable_backcast=False)\n",
    "        model = N_BEATS([Stack([comp])])\n",
    "        # Train N-BEATS\n",
    "        model.build(input_shape=(None, back_horizon, num_variables))\n",
    "        model.compile(optimizer=tf.keras.optimizers.Adam(learning_rate=0.01), loss='mse')\n",
    "        early_stopping = tf.keras.callbacks.EarlyStopping(monitor='val_loss', patience=20, mode='min')\n",
    "        history = model.fit(dataset.X_train, dataset.y_train, epochs=1000, batch_size=128, validation_data=(dataset.X_val, dataset.y_val), callbacks=[early_stopping], verbose=0)\n",
    "        forecast = model.predict(dataset.X_test, verbose=0)\n",
    "        print(len(history.history['loss']), 'epochs', end=' - ')\n",
    "        # Train VAR\n",
    "        var = VAR(dataset.train)\n",
    "        var = var.fit(back_horizon)\n",
    "        var_companion = var.params[1:].T\n",
    "        # Save results\n",
    "        companion_all.append({'sim': sim, 'composition': composition, 'nbeats': comp._companion_horizon.numpy(), 'var': var_companion, 'epochs': len(history.history['loss']), 'forecast': forecast, 'real': data[sim]['arguments']['companion_matrix'], 'error': forecast.flatten() - dataset.y_test.flatten()})"
   ],
   "metadata": {
    "collapsed": false,
    "ExecuteTime": {
     "end_time": "2023-06-18T23:38:15.754056600Z",
     "start_time": "2023-06-18T23:18:27.089925Z"
    }
   }
  },
  {
   "cell_type": "code",
   "execution_count": 4,
   "outputs": [],
   "source": [
    "pd.DataFrame(companion_all).to_json('results/companion_all.json')"
   ],
   "metadata": {
    "collapsed": false,
    "ExecuteTime": {
     "end_time": "2023-06-18T23:38:15.802060900Z",
     "start_time": "2023-06-18T23:38:15.755060200Z"
    }
   }
  },
  {
   "cell_type": "markdown",
   "source": [
    "# Companion forecast horizon test\n",
    "- How does it react if you increase forecast horizon?\n",
    "=> Save the companion matrix of the training CompanionMatrixBlock to compare to actual VAR companion matrix  AND VAR\n",
    "=> Save the companion matrix of the basic VAR model to compare to actual VAR companion matrix AND CompanionMatrixBlock\n",
    "\n",
    "1. Test on only IR data\n",
    "2. Parameters will be the lag of the DGP\n",
    "2. Horizon 1, 5, 10, 20, 50"
   ],
   "metadata": {
    "collapsed": false
   }
  },
  {
   "cell_type": "code",
   "execution_count": 5,
   "outputs": [
    {
     "name": "stdout",
     "output_type": "stream",
     "text": [
      "simulation: 0 horizon: 1 -> 185 epochs - simulation: 0 horizon: 5 -> 141 epochs - simulation: 0 horizon: 10 -> 228 epochs - simulation: 0 horizon: 20 -> 98 epochs - simulation: 0 horizon: 50 -> WARNING:tensorflow:5 out of the last 14 calls to <function Model.make_predict_function.<locals>.predict_function at 0x000001F9383B0B80> triggered tf.function retracing. Tracing is expensive and the excessive number of tracings could be due to (1) creating @tf.function repeatedly in a loop, (2) passing tensors with different shapes, (3) passing Python objects instead of tensors. For (1), please define your @tf.function outside of the loop. For (2), @tf.function has reduce_retracing=True option that can avoid unnecessary retracing. For (3), please refer to https://www.tensorflow.org/guide/function#controlling_retracing and https://www.tensorflow.org/api_docs/python/tf/function for  more details.\n",
      "20 epochs - simulation: 1 horizon: 1 -> WARNING:tensorflow:5 out of the last 12 calls to <function Model.make_predict_function.<locals>.predict_function at 0x000001F93ABA1F30> triggered tf.function retracing. Tracing is expensive and the excessive number of tracings could be due to (1) creating @tf.function repeatedly in a loop, (2) passing tensors with different shapes, (3) passing Python objects instead of tensors. For (1), please define your @tf.function outside of the loop. For (2), @tf.function has reduce_retracing=True option that can avoid unnecessary retracing. For (3), please refer to https://www.tensorflow.org/guide/function#controlling_retracing and https://www.tensorflow.org/api_docs/python/tf/function for  more details.\n",
      "111 epochs - simulation: 1 horizon: 5 -> 154 epochs - simulation: 1 horizon: 10 -> 152 epochs - simulation: 1 horizon: 20 -> 169 epochs - simulation: 1 horizon: 50 -> 1000 epochs - simulation: 2 horizon: 1 -> 293 epochs - simulation: 2 horizon: 5 -> 146 epochs - simulation: 2 horizon: 10 -> 198 epochs - simulation: 2 horizon: 20 -> 104 epochs - simulation: 2 horizon: 50 -> 1000 epochs - simulation: 3 horizon: 1 -> 62 epochs - simulation: 3 horizon: 5 -> 100 epochs - simulation: 3 horizon: 10 -> 367 epochs - simulation: 3 horizon: 20 -> 353 epochs - simulation: 3 horizon: 50 -> 1000 epochs - simulation: 4 horizon: 1 -> 112 epochs - simulation: 4 horizon: 5 -> 155 epochs - simulation: 4 horizon: 10 -> 371 epochs - simulation: 4 horizon: 20 -> 808 epochs - simulation: 4 horizon: 50 -> 1000 epochs - simulation: 5 horizon: 1 -> 102 epochs - simulation: 5 horizon: 5 -> 179 epochs - simulation: 5 horizon: 10 -> 140 epochs - simulation: 5 horizon: 20 -> 161 epochs - simulation: 5 horizon: 50 -> 141 epochs - simulation: 6 horizon: 1 -> 80 epochs - simulation: 6 horizon: 5 -> 110 epochs - simulation: 6 horizon: 10 -> 289 epochs - simulation: 6 horizon: 20 -> 100 epochs - simulation: 6 horizon: 50 -> 1000 epochs - simulation: 7 horizon: 1 -> 160 epochs - simulation: 7 horizon: 5 -> 296 epochs - simulation: 7 horizon: 10 -> 298 epochs - simulation: 7 horizon: 20 -> 299 epochs - simulation: 7 horizon: 50 -> 1000 epochs - simulation: 8 horizon: 1 -> 173 epochs - simulation: 8 horizon: 5 -> 122 epochs - simulation: 8 horizon: 10 -> 141 epochs - simulation: 8 horizon: 20 -> 126 epochs - simulation: 8 horizon: 50 -> 1000 epochs - simulation: 9 horizon: 1 -> 77 epochs - simulation: 9 horizon: 5 -> 106 epochs - simulation: 9 horizon: 10 -> 124 epochs - simulation: 9 horizon: 20 -> 1000 epochs - simulation: 9 horizon: 50 -> 1000 epochs - simulation: 10 horizon: 1 -> 85 epochs - simulation: 10 horizon: 5 -> 115 epochs - simulation: 10 horizon: 10 -> 265 epochs - simulation: 10 horizon: 20 -> 782 epochs - simulation: 10 horizon: 50 -> 44 epochs - simulation: 11 horizon: 1 -> 153 epochs - simulation: 11 horizon: 5 -> 135 epochs - simulation: 11 horizon: 10 -> 97 epochs - simulation: 11 horizon: 20 -> 404 epochs - simulation: 11 horizon: 50 -> 358 epochs - simulation: 12 horizon: 1 -> 89 epochs - simulation: 12 horizon: 5 -> 124 epochs - simulation: 12 horizon: 10 -> 143 epochs - simulation: 12 horizon: 20 -> 134 epochs - simulation: 12 horizon: 50 -> 1000 epochs - simulation: 13 horizon: 1 -> 84 epochs - simulation: 13 horizon: 5 -> 185 epochs - simulation: 13 horizon: 10 -> 135 epochs - simulation: 13 horizon: 20 -> 207 epochs - simulation: 13 horizon: 50 -> 1000 epochs - simulation: 14 horizon: 1 -> 55 epochs - simulation: 14 horizon: 5 -> 61 epochs - simulation: 14 horizon: 10 -> 29 epochs - simulation: 14 horizon: 20 -> 143 epochs - simulation: 14 horizon: 50 -> 1000 epochs - simulation: 15 horizon: 1 -> 53 epochs - simulation: 15 horizon: 5 -> 90 epochs - simulation: 15 horizon: 10 -> 251 epochs - simulation: 15 horizon: 20 -> 868 epochs - simulation: 15 horizon: 50 -> 1000 epochs - simulation: 16 horizon: 1 -> 105 epochs - simulation: 16 horizon: 5 -> 91 epochs - simulation: 16 horizon: 10 -> 154 epochs - simulation: 16 horizon: 20 -> 1000 epochs - simulation: 16 horizon: 50 -> 1000 epochs - simulation: 17 horizon: 1 -> 106 epochs - simulation: 17 horizon: 5 -> 244 epochs - simulation: 17 horizon: 10 -> 470 epochs - simulation: 17 horizon: 20 -> 621 epochs - simulation: 17 horizon: 50 -> 1000 epochs - simulation: 18 horizon: 1 -> 104 epochs - simulation: 18 horizon: 5 -> 124 epochs - simulation: 18 horizon: 10 -> 180 epochs - simulation: 18 horizon: 20 -> 86 epochs - simulation: 18 horizon: 50 -> 1000 epochs - simulation: 19 horizon: 1 -> 125 epochs - simulation: 19 horizon: 5 -> 143 epochs - simulation: 19 horizon: 10 -> 114 epochs - simulation: 19 horizon: 20 -> 96 epochs - simulation: 19 horizon: 50 -> 24 epochs - "
     ]
    }
   ],
   "source": [
    "horizon_ir = []\n",
    "\n",
    "for sim in range(len(data)):\n",
    "    for horizon in [1, 5, 10, 20, 50]:\n",
    "        print('simulation:', sim,'horizon:' ,horizon, end=' -> ')\n",
    "        # Prepare data\n",
    "        dataset = DataSet(data[sim]['data']['ir'].values)\n",
    "        back_horizon = var_lag\n",
    "        dataset.preprocessing(horizon, back_horizon, 0.8, 0.1)\n",
    "        # Create model\n",
    "        comp = CompanionMatrixBlock(num_variables, horizon, back_horizon, back_horizon, regularizer=None, trainable_backcast=False)\n",
    "        model = N_BEATS([Stack([comp])])\n",
    "        # Train N-BEATS\n",
    "        model.build(input_shape=(None, back_horizon, num_variables))\n",
    "        model.compile(optimizer=tf.keras.optimizers.Adam(learning_rate=0.01), loss='mse')\n",
    "        early_stopping = tf.keras.callbacks.EarlyStopping(monitor='val_loss', patience=20, mode='min')\n",
    "        history = model.fit(dataset.X_train, dataset.y_train, epochs=1000, batch_size=128, validation_data=(dataset.X_val, dataset.y_val), callbacks=[early_stopping], verbose=0)\n",
    "        forecast = model.predict(dataset.X_test, verbose=0)\n",
    "        print(len(history.history['loss']), 'epochs', end=' - ')\n",
    "        # Train VAR\n",
    "        var = VAR(dataset.train)\n",
    "        var = var.fit(back_horizon)\n",
    "        var_companion = var.params[1:].T\n",
    "        # Save results\n",
    "        horizon_ir.append({'sim': sim, 'composition': 'ir', 'horizon': horizon, 'nbeats': comp._companion_horizon.numpy(), 'var': var_companion, 'epochs': len(history.history['loss']), 'forecast': forecast, 'real': data[sim]['arguments']['companion_matrix'], 'error': forecast.flatten() - dataset.y_test.flatten()})"
   ],
   "metadata": {
    "collapsed": false,
    "ExecuteTime": {
     "end_time": "2023-06-19T00:01:32.187356200Z",
     "start_time": "2023-06-18T23:38:15.811062200Z"
    }
   }
  },
  {
   "cell_type": "code",
   "execution_count": 6,
   "outputs": [],
   "source": [
    "pd.DataFrame(horizon_ir).to_json('results/horizon_ir.json')"
   ],
   "metadata": {
    "collapsed": false,
    "ExecuteTime": {
     "end_time": "2023-06-19T00:01:32.296872600Z",
     "start_time": "2023-06-19T00:01:32.188360100Z"
    }
   }
  },
  {
   "cell_type": "markdown",
   "source": [
    "# Misspecified lag test\n",
    "- How does it react if misspecified?\n",
    "=> Save the companion matrix of the training CompanionMatrixBlock to compare to actual VAR companion matrix  AND VAR\n",
    "=> Save the companion matrix of the basic VAR model to compare to actual VAR companion matrix AND CompanionMatrixBlock\n",
    "\n",
    "1. Test on only IR data\n",
    "2. Lag to use: real lag/2, real lag, rea leag*2\n",
    "3. Forecast 1 ahead\n"
   ],
   "metadata": {
    "collapsed": false
   }
  },
  {
   "cell_type": "code",
   "execution_count": 7,
   "outputs": [
    {
     "name": "stdout",
     "output_type": "stream",
     "text": [
      "simulation: 0 lag: 2.0 -> 204 epochs - simulation: 0 lag: 4 -> 124 epochs - simulation: 0 lag: 8 -> 90 epochs - simulation: 0 lag: 16 -> 120 epochs - simulation: 1 lag: 2.0 -> 77 epochs - simulation: 1 lag: 4 -> 158 epochs - simulation: 1 lag: 8 -> 112 epochs - simulation: 1 lag: 16 -> 91 epochs - simulation: 2 lag: 2.0 -> 172 epochs - simulation: 2 lag: 4 -> 208 epochs - simulation: 2 lag: 8 -> 211 epochs - simulation: 2 lag: 16 -> 160 epochs - simulation: 3 lag: 2.0 -> 86 epochs - simulation: 3 lag: 4 -> 85 epochs - simulation: 3 lag: 8 -> 179 epochs - simulation: 3 lag: 16 -> 79 epochs - simulation: 4 lag: 2.0 -> 77 epochs - simulation: 4 lag: 4 -> 92 epochs - simulation: 4 lag: 8 -> 72 epochs - simulation: 4 lag: 16 -> 79 epochs - simulation: 5 lag: 2.0 -> 121 epochs - simulation: 5 lag: 4 -> 102 epochs - simulation: 5 lag: 8 -> 117 epochs - simulation: 5 lag: 16 -> 92 epochs - simulation: 6 lag: 2.0 -> 81 epochs - simulation: 6 lag: 4 -> 127 epochs - simulation: 6 lag: 8 -> 87 epochs - simulation: 6 lag: 16 -> 83 epochs - simulation: 7 lag: 2.0 -> 72 epochs - simulation: 7 lag: 4 -> 97 epochs - simulation: 7 lag: 8 -> 112 epochs - simulation: 7 lag: 16 -> 90 epochs - simulation: 8 lag: 2.0 -> 95 epochs - simulation: 8 lag: 4 -> 108 epochs - simulation: 8 lag: 8 -> 124 epochs - simulation: 8 lag: 16 -> 48 epochs - simulation: 9 lag: 2.0 -> 101 epochs - simulation: 9 lag: 4 -> 122 epochs - simulation: 9 lag: 8 -> 79 epochs - simulation: 9 lag: 16 -> 71 epochs - simulation: 10 lag: 2.0 -> 49 epochs - simulation: 10 lag: 4 -> 85 epochs - simulation: 10 lag: 8 -> 99 epochs - simulation: 10 lag: 16 -> 46 epochs - simulation: 11 lag: 2.0 -> 114 epochs - simulation: 11 lag: 4 -> 185 epochs - simulation: 11 lag: 8 -> 139 epochs - simulation: 11 lag: 16 -> 112 epochs - simulation: 12 lag: 2.0 -> 86 epochs - simulation: 12 lag: 4 -> 89 epochs - simulation: 12 lag: 8 -> 74 epochs - simulation: 12 lag: 16 -> 81 epochs - simulation: 13 lag: 2.0 -> 54 epochs - simulation: 13 lag: 4 -> 59 epochs - simulation: 13 lag: 8 -> 102 epochs - simulation: 13 lag: 16 -> 65 epochs - simulation: 14 lag: 2.0 -> 39 epochs - simulation: 14 lag: 4 -> 56 epochs - simulation: 14 lag: 8 -> 79 epochs - simulation: 14 lag: 16 -> 114 epochs - simulation: 15 lag: 2.0 -> 81 epochs - simulation: 15 lag: 4 -> 48 epochs - simulation: 15 lag: 8 -> 54 epochs - simulation: 15 lag: 16 -> 55 epochs - simulation: 16 lag: 2.0 -> 59 epochs - simulation: 16 lag: 4 -> 90 epochs - simulation: 16 lag: 8 -> 102 epochs - simulation: 16 lag: 16 -> 84 epochs - simulation: 17 lag: 2.0 -> 121 epochs - simulation: 17 lag: 4 -> 106 epochs - simulation: 17 lag: 8 -> 58 epochs - simulation: 17 lag: 16 -> 116 epochs - simulation: 18 lag: 2.0 -> 106 epochs - simulation: 18 lag: 4 -> 104 epochs - simulation: 18 lag: 8 -> 156 epochs - simulation: 18 lag: 16 -> 108 epochs - simulation: 19 lag: 2.0 -> 52 epochs - simulation: 19 lag: 4 -> 163 epochs - simulation: 19 lag: 8 -> 150 epochs - simulation: 19 lag: 16 -> 117 epochs - "
     ]
    }
   ],
   "source": [
    "misspecified_ir = []\n",
    "\n",
    "for sim in range(len(data)):\n",
    "    for lag in [var_lag/2, var_lag, var_lag*2, var_lag*4]:\n",
    "        print('simulation:', sim,'lag:' ,lag, end=' -> ')\n",
    "        # Prepare data\n",
    "        dataset = DataSet(data[sim]['data']['ir'].values)\n",
    "        back_horizon = int(lag)\n",
    "        horizon = 1\n",
    "        dataset.preprocessing(1, back_horizon, 0.8, 0.1)\n",
    "        # Create model\n",
    "        comp = CompanionMatrixBlock(num_variables, horizon, back_horizon, back_horizon, regularizer=None, trainable_backcast=False)\n",
    "        model = N_BEATS([Stack([comp])])\n",
    "        # Train N-BEATS\n",
    "        model.build(input_shape=(None, back_horizon, num_variables))\n",
    "        model.compile(optimizer=tf.keras.optimizers.Adam(learning_rate=0.01), loss='mse')\n",
    "        early_stopping = tf.keras.callbacks.EarlyStopping(monitor='val_loss', patience=20, mode='min')\n",
    "        history = model.fit(dataset.X_train, dataset.y_train, epochs=1000, batch_size=128, validation_data=(dataset.X_val, dataset.y_val), callbacks=[early_stopping], verbose=0)\n",
    "        forecast = model.predict(dataset.X_test, verbose=0)\n",
    "        print(len(history.history['loss']), 'epochs', end=' - ')\n",
    "        # Train VAR\n",
    "        var = VAR(dataset.train)\n",
    "        var = var.fit(back_horizon)\n",
    "        var_companion = var.params[1:].T\n",
    "        # Save results\n",
    "        misspecified_ir.append({'sim': sim, 'composition': 'ir', 'lags_included': back_horizon, 'nbeats': comp._companion_horizon.numpy(), 'var': var_companion, 'epochs': len(history.history['loss']), 'forecast': forecast, 'real': data[sim]['arguments']['companion_matrix'], 'error': forecast.flatten() - dataset.y_test.flatten()})"
   ],
   "metadata": {
    "collapsed": false,
    "ExecuteTime": {
     "end_time": "2023-06-19T00:06:32.249928900Z",
     "start_time": "2023-06-19T00:01:32.304869200Z"
    }
   }
  },
  {
   "cell_type": "code",
   "execution_count": 8,
   "outputs": [],
   "source": [
    "pd.DataFrame(misspecified_ir).to_json('results/misspecified_ir.json')"
   ],
   "metadata": {
    "collapsed": false,
    "ExecuteTime": {
     "end_time": "2023-06-19T00:06:32.283928100Z",
     "start_time": "2023-06-19T00:06:32.252928Z"
    }
   }
  },
  {
   "cell_type": "markdown",
   "source": [
    "# Full Model\n",
    "- Can the model determine which components are not present? (Basically turn and off blocks. e.g. If there no trend, the trend stack basically shuts off?)\n",
    "- Does the correlation block integrate with the N-Beats architecture?\n",
    "=> Save the companion matrix of the training CompanionMatrixBlock to compare to actual VAR companion matrix\n",
    "=> Save the input of the correlation block to check if stationary/compare to actual IR component\n",
    "1. Test on all\n",
    "2. Use real lag\n",
    "3. Forecast 1 ahead\n",
    "4. Use base hyperparameters"
   ],
   "metadata": {
    "collapsed": false
   }
  },
  {
   "cell_type": "code",
   "execution_count": 9,
   "outputs": [
    {
     "name": "stdout",
     "output_type": "stream",
     "text": [
      "simulation: 0 data composition: ir -> 112 epochs - simulation: 0 data composition: t_ir -> 20 epochs - simulation: 0 data composition: s_ir -> 309 epochs - simulation: 0 data composition: t_s_ir -> 20 epochs - simulation: 0 data composition: t_s -> 20 epochs - simulation: 0 data composition: rw_ir -> 35 epochs - simulation: 0 data composition: t_rw_ir -> 20 epochs - simulation: 0 data composition: s_rw_ir -> 20 epochs - simulation: 0 data composition: t_s_rw_ir -> 20 epochs - simulation: 0 data composition: rw -> 20 epochs - simulation: 1 data composition: ir -> 165 epochs - simulation: 1 data composition: t_ir -> 20 epochs - simulation: 1 data composition: s_ir -> 78 epochs - simulation: 1 data composition: t_s_ir -> 20 epochs - simulation: 1 data composition: t_s -> 20 epochs - simulation: 1 data composition: rw_ir -> 20 epochs - simulation: 1 data composition: t_rw_ir -> 20 epochs - simulation: 1 data composition: s_rw_ir -> 20 epochs - simulation: 1 data composition: t_s_rw_ir -> 20 epochs - simulation: 1 data composition: rw -> 20 epochs - simulation: 2 data composition: ir -> 251 epochs - simulation: 2 data composition: t_ir -> 20 epochs - simulation: 2 data composition: s_ir -> 168 epochs - simulation: 2 data composition: t_s_ir -> 20 epochs - simulation: 2 data composition: t_s -> 20 epochs - simulation: 2 data composition: rw_ir -> 20 epochs - simulation: 2 data composition: t_rw_ir -> 20 epochs - simulation: 2 data composition: s_rw_ir -> 20 epochs - simulation: 2 data composition: t_s_rw_ir -> 20 epochs - simulation: 2 data composition: rw -> 20 epochs - simulation: 3 data composition: ir -> 20 epochs - simulation: 3 data composition: t_ir -> 20 epochs - simulation: 3 data composition: s_ir -> 20 epochs - simulation: 3 data composition: t_s_ir -> 20 epochs - simulation: 3 data composition: t_s -> 20 epochs - simulation: 3 data composition: rw_ir -> 102 epochs - simulation: 3 data composition: t_rw_ir -> 20 epochs - simulation: 3 data composition: s_rw_ir -> 20 epochs - simulation: 3 data composition: t_s_rw_ir -> 20 epochs - simulation: 3 data composition: rw -> 20 epochs - simulation: 4 data composition: ir -> 20 epochs - simulation: 4 data composition: t_ir -> 20 epochs - simulation: 4 data composition: s_ir -> 21 epochs - simulation: 4 data composition: t_s_ir -> 20 epochs - simulation: 4 data composition: t_s -> 20 epochs - simulation: 4 data composition: rw_ir -> 20 epochs - simulation: 4 data composition: t_rw_ir -> 20 epochs - simulation: 4 data composition: s_rw_ir -> 20 epochs - simulation: 4 data composition: t_s_rw_ir -> 20 epochs - simulation: 4 data composition: rw -> 130 epochs - simulation: 5 data composition: ir -> 20 epochs - simulation: 5 data composition: t_ir -> 20 epochs - simulation: 5 data composition: s_ir -> 180 epochs - simulation: 5 data composition: t_s_ir -> 20 epochs - simulation: 5 data composition: t_s -> 20 epochs - simulation: 5 data composition: rw_ir -> 20 epochs - simulation: 5 data composition: t_rw_ir -> 20 epochs - simulation: 5 data composition: s_rw_ir -> 20 epochs - simulation: 5 data composition: t_s_rw_ir -> 20 epochs - simulation: 5 data composition: rw -> 20 epochs - simulation: 6 data composition: ir -> 104 epochs - simulation: 6 data composition: t_ir -> 20 epochs - simulation: 6 data composition: s_ir -> 117 epochs - simulation: 6 data composition: t_s_ir -> 20 epochs - simulation: 6 data composition: t_s -> 20 epochs - simulation: 6 data composition: rw_ir -> 314 epochs - simulation: 6 data composition: t_rw_ir -> 20 epochs - simulation: 6 data composition: s_rw_ir -> 20 epochs - simulation: 6 data composition: t_s_rw_ir -> 20 epochs - simulation: 6 data composition: rw -> 292 epochs - simulation: 7 data composition: ir -> 20 epochs - simulation: 7 data composition: t_ir -> 20 epochs - simulation: 7 data composition: s_ir -> 20 epochs - simulation: 7 data composition: t_s_ir -> 20 epochs - simulation: 7 data composition: t_s -> 20 epochs - simulation: 7 data composition: rw_ir -> 20 epochs - simulation: 7 data composition: t_rw_ir -> 20 epochs - simulation: 7 data composition: s_rw_ir -> 20 epochs - simulation: 7 data composition: t_s_rw_ir -> 20 epochs - simulation: 7 data composition: rw -> 146 epochs - simulation: 8 data composition: ir -> 20 epochs - simulation: 8 data composition: t_ir -> 20 epochs - simulation: 8 data composition: s_ir -> 162 epochs - simulation: 8 data composition: t_s_ir -> 20 epochs - simulation: 8 data composition: t_s -> 20 epochs - simulation: 8 data composition: rw_ir -> 20 epochs - simulation: 8 data composition: t_rw_ir -> 20 epochs - simulation: 8 data composition: s_rw_ir -> 20 epochs - simulation: 8 data composition: t_s_rw_ir -> 20 epochs - simulation: 8 data composition: rw -> 20 epochs - simulation: 9 data composition: ir -> 20 epochs - simulation: 9 data composition: t_ir -> 20 epochs - simulation: 9 data composition: s_ir -> 20 epochs - simulation: 9 data composition: t_s_ir -> 21 epochs - simulation: 9 data composition: t_s -> 20 epochs - simulation: 9 data composition: rw_ir -> 20 epochs - simulation: 9 data composition: t_rw_ir -> 20 epochs - simulation: 9 data composition: s_rw_ir -> 20 epochs - simulation: 9 data composition: t_s_rw_ir -> 20 epochs - simulation: 9 data composition: rw -> 20 epochs - simulation: 10 data composition: ir -> 20 epochs - simulation: 10 data composition: t_ir -> 20 epochs - simulation: 10 data composition: s_ir -> 140 epochs - simulation: 10 data composition: t_s_ir -> 20 epochs - simulation: 10 data composition: t_s -> 20 epochs - simulation: 10 data composition: rw_ir -> 20 epochs - simulation: 10 data composition: t_rw_ir -> 20 epochs - simulation: 10 data composition: s_rw_ir -> 20 epochs - simulation: 10 data composition: t_s_rw_ir -> 20 epochs - simulation: 10 data composition: rw -> 20 epochs - simulation: 11 data composition: ir -> 20 epochs - simulation: 11 data composition: t_ir -> 20 epochs - simulation: 11 data composition: s_ir -> 212 epochs - simulation: 11 data composition: t_s_ir -> 20 epochs - simulation: 11 data composition: t_s -> 20 epochs - simulation: 11 data composition: rw_ir -> 20 epochs - simulation: 11 data composition: t_rw_ir -> 20 epochs - simulation: 11 data composition: s_rw_ir -> 20 epochs - simulation: 11 data composition: t_s_rw_ir -> 20 epochs - simulation: 11 data composition: rw -> 112 epochs - simulation: 12 data composition: ir -> 116 epochs - simulation: 12 data composition: t_ir -> 20 epochs - simulation: 12 data composition: s_ir -> 244 epochs - simulation: 12 data composition: t_s_ir -> 20 epochs - simulation: 12 data composition: t_s -> 20 epochs - simulation: 12 data composition: rw_ir -> 20 epochs - simulation: 12 data composition: t_rw_ir -> 20 epochs - simulation: 12 data composition: s_rw_ir -> 20 epochs - simulation: 12 data composition: t_s_rw_ir -> 20 epochs - simulation: 12 data composition: rw -> 39 epochs - simulation: 13 data composition: ir -> 21 epochs - simulation: 13 data composition: t_ir -> 20 epochs - simulation: 13 data composition: s_ir -> 20 epochs - simulation: 13 data composition: t_s_ir -> 20 epochs - simulation: 13 data composition: t_s -> 20 epochs - simulation: 13 data composition: rw_ir -> 20 epochs - simulation: 13 data composition: t_rw_ir -> 20 epochs - simulation: 13 data composition: s_rw_ir -> 20 epochs - simulation: 13 data composition: t_s_rw_ir -> 20 epochs - simulation: 13 data composition: rw -> 173 epochs - simulation: 14 data composition: ir -> 124 epochs - simulation: 14 data composition: t_ir -> 20 epochs - simulation: 14 data composition: s_ir -> 50 epochs - simulation: 14 data composition: t_s_ir -> 20 epochs - simulation: 14 data composition: t_s -> 20 epochs - simulation: 14 data composition: rw_ir -> 30 epochs - simulation: 14 data composition: t_rw_ir -> 20 epochs - simulation: 14 data composition: s_rw_ir -> 20 epochs - simulation: 14 data composition: t_s_rw_ir -> 20 epochs - simulation: 14 data composition: rw -> 20 epochs - simulation: 15 data composition: ir -> 105 epochs - simulation: 15 data composition: t_ir -> 20 epochs - simulation: 15 data composition: s_ir -> 20 epochs - simulation: 15 data composition: t_s_ir -> 20 epochs - simulation: 15 data composition: t_s -> 20 epochs - simulation: 15 data composition: rw_ir -> 206 epochs - simulation: 15 data composition: t_rw_ir -> 20 epochs - simulation: 15 data composition: s_rw_ir -> 109 epochs - simulation: 15 data composition: t_s_rw_ir -> 20 epochs - simulation: 15 data composition: rw -> 20 epochs - simulation: 16 data composition: ir -> 101 epochs - simulation: 16 data composition: t_ir -> 20 epochs - simulation: 16 data composition: s_ir -> 418 epochs - simulation: 16 data composition: t_s_ir -> 20 epochs - simulation: 16 data composition: t_s -> 20 epochs - simulation: 16 data composition: rw_ir -> 20 epochs - simulation: 16 data composition: t_rw_ir -> 20 epochs - simulation: 16 data composition: s_rw_ir -> 199 epochs - simulation: 16 data composition: t_s_rw_ir -> 20 epochs - simulation: 16 data composition: rw -> 20 epochs - simulation: 17 data composition: ir -> 203 epochs - simulation: 17 data composition: t_ir -> 21 epochs - simulation: 17 data composition: s_ir -> 20 epochs - simulation: 17 data composition: t_s_ir -> 20 epochs - simulation: 17 data composition: t_s -> 21 epochs - simulation: 17 data composition: rw_ir -> 101 epochs - simulation: 17 data composition: t_rw_ir -> 20 epochs - simulation: 17 data composition: s_rw_ir -> 20 epochs - simulation: 17 data composition: t_s_rw_ir -> 20 epochs - simulation: 17 data composition: rw -> 20 epochs - simulation: 18 data composition: ir -> 279 epochs - simulation: 18 data composition: t_ir -> 20 epochs - simulation: 18 data composition: s_ir -> 134 epochs - simulation: 18 data composition: t_s_ir -> 20 epochs - simulation: 18 data composition: t_s -> 20 epochs - simulation: 18 data composition: rw_ir -> 20 epochs - simulation: 18 data composition: t_rw_ir -> 20 epochs - simulation: 18 data composition: s_rw_ir -> 20 epochs - simulation: 18 data composition: t_s_rw_ir -> 20 epochs - simulation: 18 data composition: rw -> 20 epochs - simulation: 19 data composition: ir -> 247 epochs - simulation: 19 data composition: t_ir -> 20 epochs - simulation: 19 data composition: s_ir -> 339 epochs - simulation: 19 data composition: t_s_ir -> 20 epochs - simulation: 19 data composition: t_s -> 20 epochs - simulation: 19 data composition: rw_ir -> 20 epochs - simulation: 19 data composition: t_rw_ir -> 20 epochs - simulation: 19 data composition: s_rw_ir -> 20 epochs - simulation: 19 data composition: t_s_rw_ir -> 21 epochs - simulation: 19 data composition: rw -> 130 epochs - "
     ]
    }
   ],
   "source": [
    "all = []\n",
    "\n",
    "for sim in range(len(data)):\n",
    "    for composition in data[sim]['data'].keys():\n",
    "        print('simulation:', sim, 'data composition:', composition, end=' -> ')\n",
    "        # Prepare data\n",
    "        dataset = DataSet(data[sim]['data'][composition].values)\n",
    "        horizon = 1\n",
    "        back_horizon = 100\n",
    "        dataset.preprocessing(horizon, back_horizon, 0.8, 0.1)\n",
    "        # Create model\n",
    "        trend = MultiTrendBlock(num_variables, horizon, back_horizon)\n",
    "        trend = Stack([trend for _ in range(3)])\n",
    "        seasonal = MultiSeasonalityBlock(num_variables, horizon, back_horizon)\n",
    "        seasonal = Stack([seasonal for _ in range(3)])\n",
    "        comp = CompanionMatrixBlock(num_variables, horizon, back_horizon, var_lag, regularizer=None, trainable_backcast=False)\n",
    "        model = N_BEATS([trend, seasonal, Stack([comp])])\n",
    "        # Train N-BEATS\n",
    "        model.build(input_shape=(None, back_horizon, num_variables))\n",
    "        model.compile(optimizer=tf.keras.optimizers.Adam(learning_rate=0.01), loss='mse')\n",
    "        early_stopping = tf.keras.callbacks.EarlyStopping(monitor='val_loss', patience=20, mode='min')\n",
    "        history = model.fit(dataset.X_train, dataset.y_train, epochs=1000, batch_size=128, validation_data=(dataset.X_val, dataset.y_val), callbacks=[early_stopping], verbose=0)\n",
    "        forecast = model.predict(dataset.X_test, verbose=0)\n",
    "        print(len(history.history['loss']), 'epochs', end=' - ')\n",
    "        model(dataset.X_test)\n",
    "        # Train VAR\n",
    "        var = VAR(dataset.train)\n",
    "        var = var.fit(var_lag)\n",
    "        var_companion = var.params[1:].T\n",
    "        # Save results\n",
    "        all.append({'sim': sim, 'composition': composition, 'nbeats': comp._companion_horizon.numpy(), 'var': var_companion, 'epochs': len(history.history['loss']), 'input':comp._past_input.numpy(), 'forecast': forecast, 'real': data[sim]['arguments']['companion_matrix'], 'error': forecast.flatten() - dataset.y_test.flatten()})"
   ],
   "metadata": {
    "collapsed": false,
    "ExecuteTime": {
     "end_time": "2023-06-19T01:02:11.178374Z",
     "start_time": "2023-06-19T00:06:32.291928200Z"
    }
   }
  },
  {
   "cell_type": "code",
   "execution_count": 10,
   "outputs": [],
   "source": [
    "pd.DataFrame(all).to_json('results/all.json')"
   ],
   "metadata": {
    "collapsed": false,
    "ExecuteTime": {
     "end_time": "2023-06-19T01:02:11.714523900Z",
     "start_time": "2023-06-19T01:02:11.180373800Z"
    }
   }
  },
  {
   "cell_type": "code",
   "execution_count": 11,
   "outputs": [
    {
     "name": "stdout",
     "output_type": "stream",
     "text": [
      "simulation: 0 data composition: ir -> 169 epochs - simulation: 0 data composition: t_ir -> 40 epochs - simulation: 0 data composition: s_ir -> 618 epochs - simulation: 0 data composition: t_s_ir -> 105 epochs - simulation: 0 data composition: t_s -> 76 epochs - simulation: 0 data composition: rw_ir -> 43 epochs - simulation: 0 data composition: t_rw_ir -> 114 epochs - simulation: 0 data composition: s_rw_ir -> 43 epochs - simulation: 0 data composition: t_s_rw_ir -> 34 epochs - simulation: 0 data composition: rw -> 22 epochs - simulation: 1 data composition: ir -> 76 epochs - simulation: 1 data composition: t_ir -> 51 epochs - simulation: 1 data composition: s_ir -> 62 epochs - simulation: 1 data composition: t_s_ir -> 65 epochs - simulation: 1 data composition: t_s -> 47 epochs - simulation: 1 data composition: rw_ir -> 115 epochs - simulation: 1 data composition: t_rw_ir -> 42 epochs - simulation: 1 data composition: s_rw_ir -> 68 epochs - simulation: 1 data composition: t_s_rw_ir -> 46 epochs - simulation: 1 data composition: rw -> 71 epochs - simulation: 2 data composition: ir -> 103 epochs - simulation: 2 data composition: t_ir -> 129 epochs - simulation: 2 data composition: s_ir -> 364 epochs - simulation: 2 data composition: t_s_ir -> 76 epochs - simulation: 2 data composition: t_s -> 93 epochs - simulation: 2 data composition: rw_ir -> 31 epochs - simulation: 2 data composition: t_rw_ir -> 43 epochs - simulation: 2 data composition: s_rw_ir -> 1000 epochs - simulation: 2 data composition: t_s_rw_ir -> 43 epochs - simulation: 2 data composition: rw -> 35 epochs - simulation: 3 data composition: ir -> 159 epochs - simulation: 3 data composition: t_ir -> 43 epochs - simulation: 3 data composition: s_ir -> 107 epochs - simulation: 3 data composition: t_s_ir -> 76 epochs - simulation: 3 data composition: t_s -> 49 epochs - simulation: 3 data composition: rw_ir -> 61 epochs - simulation: 3 data composition: t_rw_ir -> 37 epochs - simulation: 3 data composition: s_rw_ir -> 40 epochs - simulation: 3 data composition: t_s_rw_ir -> 39 epochs - simulation: 3 data composition: rw -> 34 epochs - simulation: 4 data composition: ir -> 54 epochs - simulation: 4 data composition: t_ir -> 58 epochs - simulation: 4 data composition: s_ir -> 182 epochs - simulation: 4 data composition: t_s_ir -> 42 epochs - simulation: 4 data composition: t_s -> 53 epochs - simulation: 4 data composition: rw_ir -> 59 epochs - simulation: 4 data composition: t_rw_ir -> 40 epochs - simulation: 4 data composition: s_rw_ir -> 297 epochs - simulation: 4 data composition: t_s_rw_ir -> 45 epochs - simulation: 4 data composition: rw -> 133 epochs - simulation: 5 data composition: ir -> 91 epochs - simulation: 5 data composition: t_ir -> 46 epochs - simulation: 5 data composition: s_ir -> 78 epochs - simulation: 5 data composition: t_s_ir -> 89 epochs - simulation: 5 data composition: t_s -> 28 epochs - simulation: 5 data composition: rw_ir -> 89 epochs - simulation: 5 data composition: t_rw_ir -> 46 epochs - simulation: 5 data composition: s_rw_ir -> 215 epochs - simulation: 5 data composition: t_s_rw_ir -> 83 epochs - simulation: 5 data composition: rw -> 27 epochs - simulation: 6 data composition: ir -> 346 epochs - simulation: 6 data composition: t_ir -> 37 epochs - simulation: 6 data composition: s_ir -> 142 epochs - simulation: 6 data composition: t_s_ir -> 83 epochs - simulation: 6 data composition: t_s -> 53 epochs - simulation: 6 data composition: rw_ir -> 41 epochs - simulation: 6 data composition: t_rw_ir -> 41 epochs - simulation: 6 data composition: s_rw_ir -> 118 epochs - simulation: 6 data composition: t_s_rw_ir -> 77 epochs - simulation: 6 data composition: rw -> 110 epochs - simulation: 7 data composition: ir -> 85 epochs - simulation: 7 data composition: t_ir -> 213 epochs - simulation: 7 data composition: s_ir -> 56 epochs - simulation: 7 data composition: t_s_ir -> 43 epochs - simulation: 7 data composition: t_s -> 171 epochs - simulation: 7 data composition: rw_ir -> 47 epochs - simulation: 7 data composition: t_rw_ir -> 216 epochs - simulation: 7 data composition: s_rw_ir -> 49 epochs - simulation: 7 data composition: t_s_rw_ir -> 43 epochs - simulation: 7 data composition: rw -> 35 epochs - simulation: 8 data composition: ir -> 86 epochs - simulation: 8 data composition: t_ir -> 45 epochs - simulation: 8 data composition: s_ir -> 204 epochs - simulation: 8 data composition: t_s_ir -> 147 epochs - simulation: 8 data composition: t_s -> 76 epochs - simulation: 8 data composition: rw_ir -> 31 epochs - simulation: 8 data composition: t_rw_ir -> 77 epochs - simulation: 8 data composition: s_rw_ir -> 98 epochs - simulation: 8 data composition: t_s_rw_ir -> 49 epochs - simulation: 8 data composition: rw -> 156 epochs - simulation: 9 data composition: ir -> 65 epochs - simulation: 9 data composition: t_ir -> 50 epochs - simulation: 9 data composition: s_ir -> 547 epochs - simulation: 9 data composition: t_s_ir -> 42 epochs - simulation: 9 data composition: t_s -> 37 epochs - simulation: 9 data composition: rw_ir -> 246 epochs - simulation: 9 data composition: t_rw_ir -> 44 epochs - simulation: 9 data composition: s_rw_ir -> 52 epochs - simulation: 9 data composition: t_s_rw_ir -> 88 epochs - simulation: 9 data composition: rw -> 33 epochs - simulation: 10 data composition: ir -> 321 epochs - simulation: 10 data composition: t_ir -> 43 epochs - simulation: 10 data composition: s_ir -> 269 epochs - simulation: 10 data composition: t_s_ir -> 111 epochs - simulation: 10 data composition: t_s -> 91 epochs - simulation: 10 data composition: rw_ir -> 45 epochs - simulation: 10 data composition: t_rw_ir -> 163 epochs - simulation: 10 data composition: s_rw_ir -> 188 epochs - simulation: 10 data composition: t_s_rw_ir -> 39 epochs - simulation: 10 data composition: rw -> 90 epochs - simulation: 11 data composition: ir -> 152 epochs - simulation: 11 data composition: t_ir -> 37 epochs - simulation: 11 data composition: s_ir -> 287 epochs - simulation: 11 data composition: t_s_ir -> 44 epochs - simulation: 11 data composition: t_s -> 47 epochs - simulation: 11 data composition: rw_ir -> 54 epochs - simulation: 11 data composition: t_rw_ir -> 45 epochs - simulation: 11 data composition: s_rw_ir -> 46 epochs - simulation: 11 data composition: t_s_rw_ir -> 45 epochs - simulation: 11 data composition: rw -> 200 epochs - simulation: 12 data composition: ir -> 41 epochs - simulation: 12 data composition: t_ir -> 43 epochs - simulation: 12 data composition: s_ir -> 149 epochs - simulation: 12 data composition: t_s_ir -> 50 epochs - simulation: 12 data composition: t_s -> 39 epochs - simulation: 12 data composition: rw_ir -> 126 epochs - simulation: 12 data composition: t_rw_ir -> 142 epochs - simulation: 12 data composition: s_rw_ir -> 50 epochs - simulation: 12 data composition: t_s_rw_ir -> 56 epochs - simulation: 12 data composition: rw -> 95 epochs - simulation: 13 data composition: ir -> 154 epochs - simulation: 13 data composition: t_ir -> 50 epochs - simulation: 13 data composition: s_ir -> 138 epochs - simulation: 13 data composition: t_s_ir -> 48 epochs - simulation: 13 data composition: t_s -> 43 epochs - simulation: 13 data composition: rw_ir -> 51 epochs - simulation: 13 data composition: t_rw_ir -> 43 epochs - simulation: 13 data composition: s_rw_ir -> 40 epochs - simulation: 13 data composition: t_s_rw_ir -> 64 epochs - simulation: 13 data composition: rw -> 223 epochs - simulation: 14 data composition: ir -> 54 epochs - simulation: 14 data composition: t_ir -> 55 epochs - simulation: 14 data composition: s_ir -> 77 epochs - simulation: 14 data composition: t_s_ir -> 92 epochs - simulation: 14 data composition: t_s -> 82 epochs - simulation: 14 data composition: rw_ir -> 60 epochs - simulation: 14 data composition: t_rw_ir -> 40 epochs - simulation: 14 data composition: s_rw_ir -> 136 epochs - simulation: 14 data composition: t_s_rw_ir -> 126 epochs - simulation: 14 data composition: rw -> 63 epochs - simulation: 15 data composition: ir -> 101 epochs - simulation: 15 data composition: t_ir -> 69 epochs - simulation: 15 data composition: s_ir -> 384 epochs - simulation: 15 data composition: t_s_ir -> 83 epochs - simulation: 15 data composition: t_s -> 45 epochs - simulation: 15 data composition: rw_ir -> 72 epochs - simulation: 15 data composition: t_rw_ir -> 42 epochs - simulation: 15 data composition: s_rw_ir -> 33 epochs - simulation: 15 data composition: t_s_rw_ir -> 37 epochs - simulation: 15 data composition: rw -> 80 epochs - simulation: 16 data composition: ir -> 68 epochs - simulation: 16 data composition: t_ir -> 39 epochs - simulation: 16 data composition: s_ir -> 220 epochs - simulation: 16 data composition: t_s_ir -> 40 epochs - simulation: 16 data composition: t_s -> 44 epochs - simulation: 16 data composition: rw_ir -> 128 epochs - simulation: 16 data composition: t_rw_ir -> 40 epochs - simulation: 16 data composition: s_rw_ir -> 48 epochs - simulation: 16 data composition: t_s_rw_ir -> 44 epochs - simulation: 16 data composition: rw -> 37 epochs - simulation: 17 data composition: ir -> 255 epochs - simulation: 17 data composition: t_ir -> 40 epochs - simulation: 17 data composition: s_ir -> 143 epochs - simulation: 17 data composition: t_s_ir -> 54 epochs - simulation: 17 data composition: t_s -> 87 epochs - simulation: 17 data composition: rw_ir -> 144 epochs - simulation: 17 data composition: t_rw_ir -> 62 epochs - simulation: 17 data composition: s_rw_ir -> 107 epochs - simulation: 17 data composition: t_s_rw_ir -> 80 epochs - simulation: 17 data composition: rw -> 30 epochs - simulation: 18 data composition: ir -> 79 epochs - simulation: 18 data composition: t_ir -> 45 epochs - simulation: 18 data composition: s_ir -> 439 epochs - simulation: 18 data composition: t_s_ir -> 43 epochs - simulation: 18 data composition: t_s -> 53 epochs - simulation: 18 data composition: rw_ir -> 137 epochs - simulation: 18 data composition: t_rw_ir -> 38 epochs - simulation: 18 data composition: s_rw_ir -> 164 epochs - simulation: 18 data composition: t_s_rw_ir -> 59 epochs - simulation: 18 data composition: rw -> 36 epochs - simulation: 19 data composition: ir -> 198 epochs - simulation: 19 data composition: t_ir -> 37 epochs - simulation: 19 data composition: s_ir -> 184 epochs - simulation: 19 data composition: t_s_ir -> 44 epochs - simulation: 19 data composition: t_s -> 56 epochs - simulation: 19 data composition: rw_ir -> 48 epochs - simulation: 19 data composition: t_rw_ir -> 44 epochs - simulation: 19 data composition: s_rw_ir -> 30 epochs - simulation: 19 data composition: t_s_rw_ir -> 56 epochs - simulation: 19 data composition: rw -> 38 epochs - "
     ]
    }
   ],
   "source": [
    "trends = []\n",
    "\n",
    "for sim in range(len(data)):\n",
    "    for composition in data[sim]['data'].keys():\n",
    "        print('simulation:', sim, 'data composition:', composition, end=' -> ')\n",
    "        # Prepare data\n",
    "        dataset = DataSet(data[sim]['data'][composition].values)\n",
    "        horizon = 1\n",
    "        back_horizon = 100\n",
    "        dataset.preprocessing(horizon, back_horizon, 0.8, 0.1)\n",
    "        # Create model\n",
    "        trend = MultiTrendBlock(num_variables, horizon, back_horizon)\n",
    "        trend = Stack([trend for _ in range(3)])\n",
    "        comp = CompanionMatrixBlock(num_variables, horizon, back_horizon, var_lag, regularizer=None, trainable_backcast=False)\n",
    "        model = N_BEATS([trend, Stack([comp])])\n",
    "        # Train N-BEATS\n",
    "        model.build(input_shape=(None, back_horizon, num_variables))\n",
    "        model.compile(optimizer=tf.keras.optimizers.Adam(learning_rate=0.01), loss='mse')\n",
    "        early_stopping = tf.keras.callbacks.EarlyStopping(monitor='val_loss', patience=20, mode='min')\n",
    "        history = model.fit(dataset.X_train, dataset.y_train, epochs=1000, batch_size=128, validation_data=(dataset.X_val, dataset.y_val), callbacks=[early_stopping], verbose=0)\n",
    "        forecast = model.predict(dataset.X_test, verbose=0)\n",
    "        print(len(history.history['loss']), 'epochs', end=' - ')\n",
    "        model(dataset.X_test)\n",
    "        # Train VAR\n",
    "        var = VAR(dataset.train)\n",
    "        var = var.fit(var_lag)\n",
    "        var_companion = var.params[1:].T\n",
    "        # Save results\n",
    "        trends.append({'sim': sim, 'composition': composition, 'nbeats': comp._companion_horizon.numpy(), 'var': var_companion, 'epochs': len(history.history['loss']), 'input':comp._past_input.numpy(), 'forecast': forecast, 'real': data[sim]['arguments']['companion_matrix'], 'error': forecast.flatten() - dataset.y_test.flatten()})"
   ],
   "metadata": {
    "collapsed": false,
    "ExecuteTime": {
     "end_time": "2023-06-19T01:54:26.879084600Z",
     "start_time": "2023-06-19T01:02:11.719525200Z"
    }
   }
  },
  {
   "cell_type": "code",
   "execution_count": 12,
   "outputs": [],
   "source": [
    "pd.DataFrame(trends).to_json('results/trend.json')"
   ],
   "metadata": {
    "collapsed": false,
    "ExecuteTime": {
     "end_time": "2023-06-19T01:54:27.703752400Z",
     "start_time": "2023-06-19T01:54:26.881084900Z"
    }
   }
  },
  {
   "cell_type": "code",
   "execution_count": 13,
   "outputs": [
    {
     "name": "stdout",
     "output_type": "stream",
     "text": [
      "simulation: 0 data composition: ir -> 48 epochs - simulation: 0 data composition: t_ir -> 100 epochs - simulation: 0 data composition: s_ir -> 232 epochs - simulation: 0 data composition: t_s_ir -> 160 epochs - simulation: 0 data composition: t_s -> 51 epochs - simulation: 0 data composition: rw_ir -> 67 epochs - simulation: 0 data composition: t_rw_ir -> 97 epochs - simulation: 0 data composition: s_rw_ir -> 71 epochs - simulation: 0 data composition: t_s_rw_ir -> 89 epochs - simulation: 0 data composition: rw -> 107 epochs - simulation: 1 data composition: ir -> 96 epochs - simulation: 1 data composition: t_ir -> 24 epochs - simulation: 1 data composition: s_ir -> 168 epochs - simulation: 1 data composition: t_s_ir -> 34 epochs - simulation: 1 data composition: t_s -> 187 epochs - simulation: 1 data composition: rw_ir -> 89 epochs - simulation: 1 data composition: t_rw_ir -> 116 epochs - simulation: 1 data composition: s_rw_ir -> 369 epochs - simulation: 1 data composition: t_s_rw_ir -> 52 epochs - simulation: 1 data composition: rw -> 85 epochs - simulation: 2 data composition: ir -> 153 epochs - simulation: 2 data composition: t_ir -> 44 epochs - simulation: 2 data composition: s_ir -> 166 epochs - simulation: 2 data composition: t_s_ir -> 77 epochs - simulation: 2 data composition: t_s -> 158 epochs - simulation: 2 data composition: rw_ir -> 81 epochs - simulation: 2 data composition: t_rw_ir -> 108 epochs - simulation: 2 data composition: s_rw_ir -> 233 epochs - simulation: 2 data composition: t_s_rw_ir -> 22 epochs - simulation: 2 data composition: rw -> 150 epochs - simulation: 3 data composition: ir -> 77 epochs - simulation: 3 data composition: t_ir -> 28 epochs - simulation: 3 data composition: s_ir -> 138 epochs - simulation: 3 data composition: t_s_ir -> 54 epochs - simulation: 3 data composition: t_s -> 47 epochs - simulation: 3 data composition: rw_ir -> 33 epochs - simulation: 3 data composition: t_rw_ir -> 65 epochs - simulation: 3 data composition: s_rw_ir -> 53 epochs - simulation: 3 data composition: t_s_rw_ir -> 53 epochs - simulation: 3 data composition: rw -> 106 epochs - simulation: 4 data composition: ir -> 139 epochs - simulation: 4 data composition: t_ir -> 41 epochs - simulation: 4 data composition: s_ir -> 144 epochs - simulation: 4 data composition: t_s_ir -> 59 epochs - simulation: 4 data composition: t_s -> 59 epochs - simulation: 4 data composition: rw_ir -> 57 epochs - simulation: 4 data composition: t_rw_ir -> 50 epochs - simulation: 4 data composition: s_rw_ir -> 36 epochs - simulation: 4 data composition: t_s_rw_ir -> 95 epochs - simulation: 4 data composition: rw -> 108 epochs - simulation: 5 data composition: ir -> 169 epochs - simulation: 5 data composition: t_ir -> 46 epochs - simulation: 5 data composition: s_ir -> 351 epochs - simulation: 5 data composition: t_s_ir -> 46 epochs - simulation: 5 data composition: t_s -> 119 epochs - simulation: 5 data composition: rw_ir -> 97 epochs - simulation: 5 data composition: t_rw_ir -> 152 epochs - simulation: 5 data composition: s_rw_ir -> 183 epochs - simulation: 5 data composition: t_s_rw_ir -> 54 epochs - simulation: 5 data composition: rw -> 60 epochs - simulation: 6 data composition: ir -> 100 epochs - simulation: 6 data composition: t_ir -> 45 epochs - simulation: 6 data composition: s_ir -> 246 epochs - simulation: 6 data composition: t_s_ir -> 72 epochs - simulation: 6 data composition: t_s -> 87 epochs - simulation: 6 data composition: rw_ir -> 227 epochs - simulation: 6 data composition: t_rw_ir -> 73 epochs - simulation: 6 data composition: s_rw_ir -> 62 epochs - simulation: 6 data composition: t_s_rw_ir -> 50 epochs - simulation: 6 data composition: rw -> 137 epochs - simulation: 7 data composition: ir -> 103 epochs - simulation: 7 data composition: t_ir -> 42 epochs - simulation: 7 data composition: s_ir -> 281 epochs - simulation: 7 data composition: t_s_ir -> 108 epochs - simulation: 7 data composition: t_s -> 70 epochs - simulation: 7 data composition: rw_ir -> 35 epochs - simulation: 7 data composition: t_rw_ir -> 25 epochs - simulation: 7 data composition: s_rw_ir -> 333 epochs - simulation: 7 data composition: t_s_rw_ir -> 52 epochs - simulation: 7 data composition: rw -> 77 epochs - simulation: 8 data composition: ir -> 143 epochs - simulation: 8 data composition: t_ir -> 44 epochs - simulation: 8 data composition: s_ir -> 483 epochs - simulation: 8 data composition: t_s_ir -> 56 epochs - simulation: 8 data composition: t_s -> 92 epochs - simulation: 8 data composition: rw_ir -> 83 epochs - simulation: 8 data composition: t_rw_ir -> 40 epochs - simulation: 8 data composition: s_rw_ir -> 85 epochs - simulation: 8 data composition: t_s_rw_ir -> 44 epochs - simulation: 8 data composition: rw -> 88 epochs - simulation: 9 data composition: ir -> 313 epochs - simulation: 9 data composition: t_ir -> 22 epochs - simulation: 9 data composition: s_ir -> 193 epochs - simulation: 9 data composition: t_s_ir -> 43 epochs - simulation: 9 data composition: t_s -> 91 epochs - simulation: 9 data composition: rw_ir -> 76 epochs - simulation: 9 data composition: t_rw_ir -> 42 epochs - simulation: 9 data composition: s_rw_ir -> 114 epochs - simulation: 9 data composition: t_s_rw_ir -> 59 epochs - simulation: 9 data composition: rw -> 123 epochs - simulation: 10 data composition: ir -> 238 epochs - simulation: 10 data composition: t_ir -> 72 epochs - simulation: 10 data composition: s_ir -> 126 epochs - simulation: 10 data composition: t_s_ir -> 116 epochs - simulation: 10 data composition: t_s -> 185 epochs - simulation: 10 data composition: rw_ir -> 62 epochs - simulation: 10 data composition: t_rw_ir -> 125 epochs - simulation: 10 data composition: s_rw_ir -> 24 epochs - simulation: 10 data composition: t_s_rw_ir -> 59 epochs - simulation: 10 data composition: rw -> 84 epochs - simulation: 11 data composition: ir -> 274 epochs - simulation: 11 data composition: t_ir -> 45 epochs - simulation: 11 data composition: s_ir -> 188 epochs - simulation: 11 data composition: t_s_ir -> 56 epochs - simulation: 11 data composition: t_s -> 61 epochs - simulation: 11 data composition: rw_ir -> 79 epochs - simulation: 11 data composition: t_rw_ir -> 54 epochs - simulation: 11 data composition: s_rw_ir -> 61 epochs - simulation: 11 data composition: t_s_rw_ir -> 43 epochs - simulation: 11 data composition: rw -> 63 epochs - simulation: 12 data composition: ir -> 193 epochs - simulation: 12 data composition: t_ir -> 44 epochs - simulation: 12 data composition: s_ir -> 151 epochs - simulation: 12 data composition: t_s_ir -> 142 epochs - simulation: 12 data composition: t_s -> 123 epochs - simulation: 12 data composition: rw_ir -> 105 epochs - simulation: 12 data composition: t_rw_ir -> 97 epochs - simulation: 12 data composition: s_rw_ir -> 70 epochs - simulation: 12 data composition: t_s_rw_ir -> 78 epochs - simulation: 12 data composition: rw -> 43 epochs - simulation: 13 data composition: ir -> 191 epochs - simulation: 13 data composition: t_ir -> 46 epochs - simulation: 13 data composition: s_ir -> 352 epochs - simulation: 13 data composition: t_s_ir -> 59 epochs - simulation: 13 data composition: t_s -> 98 epochs - simulation: 13 data composition: rw_ir -> 119 epochs - simulation: 13 data composition: t_rw_ir -> 43 epochs - simulation: 13 data composition: s_rw_ir -> 31 epochs - simulation: 13 data composition: t_s_rw_ir -> 21 epochs - simulation: 13 data composition: rw -> 63 epochs - simulation: 14 data composition: ir -> 100 epochs - simulation: 14 data composition: t_ir -> 48 epochs - simulation: 14 data composition: s_ir -> 158 epochs - simulation: 14 data composition: t_s_ir -> 64 epochs - simulation: 14 data composition: t_s -> 21 epochs - simulation: 14 data composition: rw_ir -> 21 epochs - simulation: 14 data composition: t_rw_ir -> 44 epochs - simulation: 14 data composition: s_rw_ir -> 38 epochs - simulation: 14 data composition: t_s_rw_ir -> 40 epochs - simulation: 14 data composition: rw -> 21 epochs - simulation: 15 data composition: ir -> 235 epochs - simulation: 15 data composition: t_ir -> 105 epochs - simulation: 15 data composition: s_ir -> 89 epochs - simulation: 15 data composition: t_s_ir -> 235 epochs - simulation: 15 data composition: t_s -> 177 epochs - simulation: 15 data composition: rw_ir -> 56 epochs - simulation: 15 data composition: t_rw_ir -> 54 epochs - simulation: 15 data composition: s_rw_ir -> 77 epochs - simulation: 15 data composition: t_s_rw_ir -> 40 epochs - simulation: 15 data composition: rw -> 34 epochs - simulation: 16 data composition: ir -> 151 epochs - simulation: 16 data composition: t_ir -> 39 epochs - simulation: 16 data composition: s_ir -> 164 epochs - simulation: 16 data composition: t_s_ir -> 40 epochs - simulation: 16 data composition: t_s -> 166 epochs - simulation: 16 data composition: rw_ir -> 64 epochs - simulation: 16 data composition: t_rw_ir -> 77 epochs - simulation: 16 data composition: s_rw_ir -> 48 epochs - simulation: 16 data composition: t_s_rw_ir -> 95 epochs - simulation: 16 data composition: rw -> 111 epochs - simulation: 17 data composition: ir -> 86 epochs - simulation: 17 data composition: t_ir -> 41 epochs - simulation: 17 data composition: s_ir -> 90 epochs - simulation: 17 data composition: t_s_ir -> 60 epochs - simulation: 17 data composition: t_s -> 44 epochs - simulation: 17 data composition: rw_ir -> 44 epochs - simulation: 17 data composition: t_rw_ir -> 52 epochs - simulation: 17 data composition: s_rw_ir -> 57 epochs - simulation: 17 data composition: t_s_rw_ir -> 46 epochs - simulation: 17 data composition: rw -> 38 epochs - simulation: 18 data composition: ir -> 81 epochs - simulation: 18 data composition: t_ir -> 130 epochs - simulation: 18 data composition: s_ir -> 128 epochs - simulation: 18 data composition: t_s_ir -> 147 epochs - simulation: 18 data composition: t_s -> 39 epochs - simulation: 18 data composition: rw_ir -> 61 epochs - simulation: 18 data composition: t_rw_ir -> 41 epochs - simulation: 18 data composition: s_rw_ir -> 70 epochs - simulation: 18 data composition: t_s_rw_ir -> 45 epochs - simulation: 18 data composition: rw -> 50 epochs - simulation: 19 data composition: ir -> 220 epochs - simulation: 19 data composition: t_ir -> 76 epochs - simulation: 19 data composition: s_ir -> 353 epochs - simulation: 19 data composition: t_s_ir -> 54 epochs - simulation: 19 data composition: t_s -> 117 epochs - simulation: 19 data composition: rw_ir -> 115 epochs - simulation: 19 data composition: t_rw_ir -> 69 epochs - simulation: 19 data composition: s_rw_ir -> 123 epochs - simulation: 19 data composition: t_s_rw_ir -> 39 epochs - simulation: 19 data composition: rw -> 27 epochs - "
     ]
    }
   ],
   "source": [
    "seasonals = []\n",
    "\n",
    "for sim in range(len(data)):\n",
    "    for composition in data[sim]['data'].keys():\n",
    "        print('simulation:', sim, 'data composition:', composition, end=' -> ')\n",
    "        # Prepare data\n",
    "        dataset = DataSet(data[sim]['data'][composition].values)\n",
    "        horizon = 1\n",
    "        back_horizon = 100\n",
    "        dataset.preprocessing(horizon, back_horizon, 0.8, 0.1)\n",
    "        # Create model\n",
    "        seasonal = MultiSeasonalityBlock(num_variables, horizon, back_horizon)\n",
    "        seasonal = Stack([seasonal for _ in range(3)])\n",
    "        comp = CompanionMatrixBlock(num_variables, horizon, back_horizon, var_lag, regularizer=None, trainable_backcast=False)\n",
    "        model = N_BEATS([seasonal, Stack([comp])])\n",
    "        # Train N-BEATS\n",
    "        model.build(input_shape=(None, back_horizon, num_variables))\n",
    "        model.compile(optimizer=tf.keras.optimizers.Adam(learning_rate=0.01), loss='mse')\n",
    "        early_stopping = tf.keras.callbacks.EarlyStopping(monitor='val_loss', patience=20, mode='min')\n",
    "        history = model.fit(dataset.X_train, dataset.y_train, epochs=1000, batch_size=128, validation_data=(dataset.X_val, dataset.y_val), callbacks=[early_stopping], verbose=0)\n",
    "        forecast = model.predict(dataset.X_test, verbose=0)\n",
    "        print(len(history.history['loss']), 'epochs', end=' - ')\n",
    "        model(dataset.X_test)\n",
    "        # Train VAR\n",
    "        var = VAR(dataset.train)\n",
    "        var = var.fit(var_lag)\n",
    "        var_companion = var.params[1:].T\n",
    "        # Save results\n",
    "        seasonals.append({'sim': sim, 'composition': composition, 'nbeats': comp._companion_horizon.numpy(), 'var': var_companion, 'epochs': len(history.history['loss']), 'input':comp._past_input.numpy(), 'forecast': forecast, 'real': data[sim]['arguments']['companion_matrix'], 'error': forecast.flatten() - dataset.y_test.flatten()})"
   ],
   "metadata": {
    "collapsed": false,
    "ExecuteTime": {
     "end_time": "2023-06-19T02:49:08.482509800Z",
     "start_time": "2023-06-19T01:54:27.708752200Z"
    }
   }
  },
  {
   "cell_type": "code",
   "execution_count": 14,
   "outputs": [],
   "source": [
    "pd.DataFrame(seasonals).to_json('results/seasonal.json')"
   ],
   "metadata": {
    "collapsed": false,
    "ExecuteTime": {
     "end_time": "2023-06-19T02:49:09.322160Z",
     "start_time": "2023-06-19T02:49:08.486509800Z"
    }
   }
  },
  {
   "cell_type": "code",
   "execution_count": 15,
   "outputs": [],
   "source": [
    "results = {'seasonal': seasonals, 'trend': trends, 'all': all, 'companion_all': companion_all, 'horizon_ir': horizon_ir, 'misspecified_ir': misspecified_ir}"
   ],
   "metadata": {
    "collapsed": false,
    "ExecuteTime": {
     "end_time": "2023-06-19T02:49:09.338159500Z",
     "start_time": "2023-06-19T02:49:09.324159Z"
    }
   }
  },
  {
   "cell_type": "code",
   "execution_count": 16,
   "outputs": [],
   "source": [
    "for key in results.keys():\n",
    "    results[key] = pd.DataFrame(results[key])\n",
    "    results[key].to_json('results/'+key+'.json')"
   ],
   "metadata": {
    "collapsed": false,
    "ExecuteTime": {
     "end_time": "2023-06-19T02:49:11.509124300Z",
     "start_time": "2023-06-19T02:49:09.340166700Z"
    }
   }
  },
  {
   "cell_type": "code",
   "execution_count": 16,
   "outputs": [],
   "source": [],
   "metadata": {
    "collapsed": false,
    "ExecuteTime": {
     "end_time": "2023-06-19T02:49:11.524123800Z",
     "start_time": "2023-06-19T02:49:11.510150300Z"
    }
   }
  }
 ],
 "metadata": {
  "kernelspec": {
   "display_name": "Python 3",
   "language": "python",
   "name": "python3"
  },
  "language_info": {
   "codemirror_mode": {
    "name": "ipython",
    "version": 2
   },
   "file_extension": ".py",
   "mimetype": "text/x-python",
   "name": "python",
   "nbconvert_exporter": "python",
   "pygments_lexer": "ipython2",
   "version": "2.7.6"
  }
 },
 "nbformat": 4,
 "nbformat_minor": 0
}
